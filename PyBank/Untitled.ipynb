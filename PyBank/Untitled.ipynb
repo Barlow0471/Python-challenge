{
 "cells": [
  {
   "cell_type": "code",
   "execution_count": 12,
   "id": "8af9c922",
   "metadata": {},
   "outputs": [],
   "source": [
    "# Modules\n",
    "import os\n",
    "import csv\n"
   ]
  },
  {
   "cell_type": "code",
   "execution_count": 13,
   "id": "eaf3638e",
   "metadata": {},
   "outputs": [],
   "source": [
    "# Set path for file\n",
    "csvpath = os.path.join('Resources','budget_data.csv')\n"
   ]
  },
  {
   "cell_type": "code",
   "execution_count": 16,
   "id": "38678db5",
   "metadata": {},
   "outputs": [
    {
     "ename": "IndentationError",
     "evalue": "unexpected indent (<ipython-input-16-5fb2ea9c1ca3>, line 9)",
     "output_type": "error",
     "traceback": [
      "\u001b[1;36m  File \u001b[1;32m\"<ipython-input-16-5fb2ea9c1ca3>\"\u001b[1;36m, line \u001b[1;32m9\u001b[0m\n\u001b[1;33m    dates = []\u001b[0m\n\u001b[1;37m    ^\u001b[0m\n\u001b[1;31mIndentationError\u001b[0m\u001b[1;31m:\u001b[0m unexpected indent\n"
     ]
    }
   ],
   "source": [
    "# Open the CSV\n",
    "with open(csvpath) as csvfile:\n",
    "    csvreader = csv.reader(csvfile, delimiter=',')\n",
    "    \n",
    "# Skip header\n",
    "csv_reader = next(csvreader, None)\n",
    "\n",
    "    # Create empty lists\n",
    "    dates = []\n",
    "    profit_losses = []\n",
    "    monthly_change = []\n",
    "\n",
    "    # Create loop for separate lists\n",
    "    for row in csvreader:\n",
    "\n",
    "        dates.append(row[0])\n",
    "        profit_losses.append(row[1])\n",
    "\n",
    "    # Determine total number of months\n",
    "    total_months = 0\n",
    "    \n",
    "    for month in dates:\n",
    "        total_months += 1\n",
    "\n",
    "    # Determine net total amount\n",
    "    net_total = 0\n",
    "    \n",
    "    for row in profit_losses:\n",
    "        net_total += int(row)\n"
   ]
  },
  {
   "cell_type": "code",
   "execution_count": 10,
   "id": "a65552fa",
   "metadata": {},
   "outputs": [
    {
     "ename": "IndentationError",
     "evalue": "unexpected indent (<ipython-input-10-57c2e0e3c2a0>, line 2)",
     "output_type": "error",
     "traceback": [
      "\u001b[1;36m  File \u001b[1;32m\"<ipython-input-10-57c2e0e3c2a0>\"\u001b[1;36m, line \u001b[1;32m2\u001b[0m\n\u001b[1;33m    csv_reader = next(csvreader, None)\u001b[0m\n\u001b[1;37m    ^\u001b[0m\n\u001b[1;31mIndentationError\u001b[0m\u001b[1;31m:\u001b[0m unexpected indent\n"
     ]
    }
   ],
   "source": []
  },
  {
   "cell_type": "code",
   "execution_count": null,
   "id": "cdc71074",
   "metadata": {},
   "outputs": [],
   "source": []
  }
 ],
 "metadata": {
  "kernelspec": {
   "display_name": "Python 3",
   "language": "python",
   "name": "python3"
  },
  "language_info": {
   "codemirror_mode": {
    "name": "ipython",
    "version": 3
   },
   "file_extension": ".py",
   "mimetype": "text/x-python",
   "name": "python",
   "nbconvert_exporter": "python",
   "pygments_lexer": "ipython3",
   "version": "3.8.5"
  }
 },
 "nbformat": 4,
 "nbformat_minor": 5
}
